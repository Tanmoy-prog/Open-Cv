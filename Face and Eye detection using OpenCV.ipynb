{
 "cells": [
  {
   "cell_type": "code",
   "execution_count": 1,
   "metadata": {},
   "outputs": [],
   "source": [
    "import cv2"
   ]
  },
  {
   "cell_type": "code",
   "execution_count": 2,
   "metadata": {},
   "outputs": [],
   "source": [
    "input= cv2.imread('dhoni.png')\n",
    "cv2.imshow('hello',input)\n",
    "cv2.waitKey()\n",
    "cv2.destroyAllWindows()"
   ]
  },
  {
   "cell_type": "code",
   "execution_count": 3,
   "metadata": {},
   "outputs": [],
   "source": [
    "import numpy as np"
   ]
  },
  {
   "cell_type": "code",
   "execution_count": 4,
   "metadata": {},
   "outputs": [
    {
     "data": {
      "text/plain": [
       "(230, 345, 3)"
      ]
     },
     "execution_count": 4,
     "metadata": {},
     "output_type": "execute_result"
    }
   ],
   "source": [
    "input.shape"
   ]
  },
  {
   "cell_type": "code",
   "execution_count": 5,
   "metadata": {},
   "outputs": [],
   "source": [
    "face_classif = cv2.CascadeClassifier('C:\\\\Users\\\\HP\\\\Desktop\\\\haarcascade_frontalface_default.xml')\n",
    "eye =cv2.CascadeClassifier('C:\\\\Users\\\\HP\\\\Desktop\\\\haarcascade_eye.xml')\n",
    "grey =cv2.cvtColor(input,cv2.COLOR_BGR2GRAY)"
   ]
  },
  {
   "cell_type": "code",
   "execution_count": 6,
   "metadata": {},
   "outputs": [],
   "source": [
    "faces  =face_classif.detectMultiScale(grey,1.3,5)"
   ]
  },
  {
   "cell_type": "code",
   "execution_count": 7,
   "metadata": {},
   "outputs": [],
   "source": [
    "if faces is ():\n",
    "    print('no face detected')\n",
    "for x,y,w,h in faces:\n",
    "    cv2.rectangle(input,(x,y),(x+w,y+h),(127,0,255),3)\n",
    "    #cv2.imshow('face detected',input)\n",
    "    #cv2.waitKey()\n",
    "    roi_gray = grey[y:y+h, x:x+w]\n",
    "    roi_inp = input[y:y+h, x:x+w]\n",
    "    eyes = eye.detectMultiScale(roi_gray)\n",
    "    for (ex,ey,ew,eh) in eyes:\n",
    "        cv2.rectangle(roi_inp,(ex,ey),(ex+ew,ey+eh),(255,255,0),3)\n",
    "        cv2.imshow('face and eye detected',input)\n",
    "        cv2.waitKey()\n",
    "cv2.destroyAllWindows()"
   ]
  },
  {
   "cell_type": "code",
   "execution_count": 18,
   "metadata": {},
   "outputs": [],
   "source": []
  },
  {
   "cell_type": "code",
   "execution_count": null,
   "metadata": {},
   "outputs": [],
   "source": []
  }
 ],
 "metadata": {
  "kernelspec": {
   "display_name": "Python 3",
   "language": "python",
   "name": "python3"
  },
  "language_info": {
   "codemirror_mode": {
    "name": "ipython",
    "version": 3
   },
   "file_extension": ".py",
   "mimetype": "text/x-python",
   "name": "python",
   "nbconvert_exporter": "python",
   "pygments_lexer": "ipython3",
   "version": "3.7.3"
  }
 },
 "nbformat": 4,
 "nbformat_minor": 4
}
