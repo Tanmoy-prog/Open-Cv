{
 "cells": [
  {
   "cell_type": "code",
   "execution_count": 5,
   "metadata": {},
   "outputs": [],
   "source": [
    "import cv2"
   ]
  },
  {
   "cell_type": "code",
   "execution_count": 6,
   "metadata": {},
   "outputs": [],
   "source": [
    "face_classif = cv2.CascadeClassifier('C:\\\\Users\\\\HP\\\\Desktop\\\\haarcascade_frontalface_default.xml')\n",
    "eye =cv2.CascadeClassifier('C:\\\\Users\\\\HP\\\\Desktop\\\\haarcascade_eye.xml')\n",
    "smile_cascade =cv2.CascadeClassifier('C:\\\\Users\\\\HP\\\\Desktop\\\\haarcascade_smile.xml')"
   ]
  },
  {
   "cell_type": "code",
   "execution_count": 11,
   "metadata": {},
   "outputs": [],
   "source": [
    "def detect(grey,frame):\n",
    "    faces  =face_classif.detectMultiScale(grey,1.3,5)\n",
    "    for x,y,w,h in faces:\n",
    "        cv2.rectangle(frame,(x,y),(x+w,y+h),(127,0,255),3)\n",
    "        #cv2.imshow('face detected',input)\n",
    "        #cv2.waitKey()\n",
    "        roi_gray = grey[y:y+h, x:x+w]\n",
    "        roi_inp = frame[y:y+h, x:x+w]\n",
    "        eyes = eye.detectMultiScale(roi_gray,1.1,3)\n",
    "        for (ex,ey,ew,eh) in eyes:\n",
    "            cv2.rectangle(roi_inp,(ex,ey),(ex+ew,ey+eh),(255,255,0),3)\n",
    "        smiles = smile_cascade.detectMultiScale(roi_gray,1.1,5)\n",
    "        for (sx,sy,sw,sh) in smiles:\n",
    "            cv2.rectangle(roi_inp,(sx,sy),(sx+sw,sy+sh),(255,255,0),5)\n",
    "    return frame       "
   ]
  },
  {
   "cell_type": "code",
   "execution_count": 12,
   "metadata": {},
   "outputs": [],
   "source": [
    "video = cv2.VideoCapture(0)\n",
    "while True:\n",
    "    check,frame = video.read()\n",
    "    grey =cv2.cvtColor(frame,cv2.COLOR_BGR2GRAY)\n",
    "    canvas = detect(grey,frame)\n",
    "    cv2.imshow('video',canvas)\n",
    "    key=cv2.waitKey(1)\n",
    "    if key==ord('q'):\n",
    "        break\n",
    "        \n",
    "video.release()\n",
    "cv2.destroyAllWindows()\n"
   ]
  },
  {
   "cell_type": "code",
   "execution_count": null,
   "metadata": {},
   "outputs": [],
   "source": []
  }
 ],
 "metadata": {
  "kernelspec": {
   "display_name": "Python 3",
   "language": "python",
   "name": "python3"
  },
  "language_info": {
   "codemirror_mode": {
    "name": "ipython",
    "version": 3
   },
   "file_extension": ".py",
   "mimetype": "text/x-python",
   "name": "python",
   "nbconvert_exporter": "python",
   "pygments_lexer": "ipython3",
   "version": "3.7.3"
  }
 },
 "nbformat": 4,
 "nbformat_minor": 4
}
