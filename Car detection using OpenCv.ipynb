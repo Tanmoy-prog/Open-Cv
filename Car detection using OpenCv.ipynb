{
 "cells": [
  {
   "cell_type": "code",
   "execution_count": 26,
   "metadata": {},
   "outputs": [],
   "source": [
    "import cv2\n",
    "import numpy as np"
   ]
  },
  {
   "cell_type": "code",
   "execution_count": 27,
   "metadata": {},
   "outputs": [],
   "source": [
    "car_classif =cv2.CascadeClassifier('haarcascade_car.xml')\n",
    "video = cv2.VideoCapture('car_video.mp4')"
   ]
  },
  {
   "cell_type": "code",
   "execution_count": 28,
   "metadata": {},
   "outputs": [],
   "source": [
    "while video.isOpened():\n",
    "    check,frame = video.read()\n",
    "    grey =cv2.cvtColor(frame,cv2.COLOR_BGR2GRAY)\n",
    "    car= car_classif.detectMultiScale(frame,1.8,2)\n",
    "    for x,y,w,h in car:\n",
    "        cv2.rectangle(frame,(x,y),(x+w,y+h),(0,255,255),3)\n",
    "        cv2.imshow('Car',frame)\n",
    "    key=cv2.waitKey(1)\n",
    "    if key==ord('q'):\n",
    "        break\n",
    "        \n",
    "video.release()\n",
    "cv2.destroyAllWindows()"
   ]
  },
  {
   "cell_type": "code",
   "execution_count": null,
   "metadata": {},
   "outputs": [],
   "source": []
  }
 ],
 "metadata": {
  "kernelspec": {
   "display_name": "Python 3",
   "language": "python",
   "name": "python3"
  },
  "language_info": {
   "codemirror_mode": {
    "name": "ipython",
    "version": 3
   },
   "file_extension": ".py",
   "mimetype": "text/x-python",
   "name": "python",
   "nbconvert_exporter": "python",
   "pygments_lexer": "ipython3",
   "version": "3.7.3"
  }
 },
 "nbformat": 4,
 "nbformat_minor": 4
}
