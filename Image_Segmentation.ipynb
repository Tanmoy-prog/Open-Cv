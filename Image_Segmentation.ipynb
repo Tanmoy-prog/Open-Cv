{
 "cells": [
  {
   "cell_type": "code",
   "execution_count": 2,
   "metadata": {},
   "outputs": [],
   "source": [
    "import pixellib"
   ]
  },
  {
   "cell_type": "code",
   "execution_count": 3,
   "metadata": {},
   "outputs": [],
   "source": [
    "from pixellib.instance import instance_segmentation"
   ]
  },
  {
   "cell_type": "code",
   "execution_count": 4,
   "metadata": {},
   "outputs": [],
   "source": [
    "segment_image = instance_segmentation()"
   ]
  },
  {
   "cell_type": "code",
   "execution_count": 5,
   "metadata": {},
   "outputs": [
    {
     "name": "stdout",
     "output_type": "stream",
     "text": [
      "WARNING:tensorflow:From c:\\users\\hp\\appdata\\local\\programs\\python\\python37\\lib\\site-packages\\tensorflow\\python\\ops\\array_ops.py:5049: calling gather (from tensorflow.python.ops.array_ops) with validate_indices is deprecated and will be removed in a future version.\n",
      "Instructions for updating:\n",
      "The `validate_indices` argument has no effect. Indices are always validated on CPU and never validated on GPU.\n",
      "WARNING:tensorflow:From c:\\users\\hp\\appdata\\local\\programs\\python\\python37\\lib\\site-packages\\tensorflow\\python\\util\\deprecation.py:602: calling map_fn_v2 (from tensorflow.python.ops.map_fn) with dtype is deprecated and will be removed in a future version.\n",
      "Instructions for updating:\n",
      "Use fn_output_signature instead\n"
     ]
    }
   ],
   "source": [
    "segment_image.load_model('mask_rcnn_coco.h5')"
   ]
  },
  {
   "cell_type": "code",
   "execution_count": 8,
   "metadata": {},
   "outputs": [
    {
     "name": "stdout",
     "output_type": "stream",
     "text": [
      "Processed image saved successfully in your current working directory.\n"
     ]
    },
    {
     "data": {
      "text/plain": [
       "({'rois': array([[ 40,  90, 158, 125],\n",
       "         [ 46,  48, 155,  83],\n",
       "         [ 76, 249, 120, 286],\n",
       "         [ 81, 204, 121, 232],\n",
       "         [ 73, 156, 101, 169],\n",
       "         [ 50,  68, 142,  91],\n",
       "         [ 49,  68,  79,  88],\n",
       "         [ 74, 204,  88, 212],\n",
       "         [ 93, 251, 135, 299]]),\n",
       "  'class_ids': array([ 1,  1,  1,  1,  1,  1,  1,  1, 58]),\n",
       "  'scores': array([0.9996093 , 0.9983253 , 0.9943522 , 0.9854563 , 0.9340472 ,\n",
       "         0.9252554 , 0.8756099 , 0.7767866 , 0.71269786], dtype=float32),\n",
       "  'masks': array([[[False, False, False, ..., False, False, False],\n",
       "          [False, False, False, ..., False, False, False],\n",
       "          [False, False, False, ..., False, False, False],\n",
       "          ...,\n",
       "          [False, False, False, ..., False, False, False],\n",
       "          [False, False, False, ..., False, False, False],\n",
       "          [False, False, False, ..., False, False, False]],\n",
       "  \n",
       "         [[False, False, False, ..., False, False, False],\n",
       "          [False, False, False, ..., False, False, False],\n",
       "          [False, False, False, ..., False, False, False],\n",
       "          ...,\n",
       "          [False, False, False, ..., False, False, False],\n",
       "          [False, False, False, ..., False, False, False],\n",
       "          [False, False, False, ..., False, False, False]],\n",
       "  \n",
       "         [[False, False, False, ..., False, False, False],\n",
       "          [False, False, False, ..., False, False, False],\n",
       "          [False, False, False, ..., False, False, False],\n",
       "          ...,\n",
       "          [False, False, False, ..., False, False, False],\n",
       "          [False, False, False, ..., False, False, False],\n",
       "          [False, False, False, ..., False, False, False]],\n",
       "  \n",
       "         ...,\n",
       "  \n",
       "         [[False, False, False, ..., False, False, False],\n",
       "          [False, False, False, ..., False, False, False],\n",
       "          [False, False, False, ..., False, False, False],\n",
       "          ...,\n",
       "          [False, False, False, ..., False, False, False],\n",
       "          [False, False, False, ..., False, False, False],\n",
       "          [False, False, False, ..., False, False, False]],\n",
       "  \n",
       "         [[False, False, False, ..., False, False, False],\n",
       "          [False, False, False, ..., False, False, False],\n",
       "          [False, False, False, ..., False, False, False],\n",
       "          ...,\n",
       "          [False, False, False, ..., False, False, False],\n",
       "          [False, False, False, ..., False, False, False],\n",
       "          [False, False, False, ..., False, False, False]],\n",
       "  \n",
       "         [[False, False, False, ..., False, False, False],\n",
       "          [False, False, False, ..., False, False, False],\n",
       "          [False, False, False, ..., False, False, False],\n",
       "          ...,\n",
       "          [False, False, False, ..., False, False, False],\n",
       "          [False, False, False, ..., False, False, False],\n",
       "          [False, False, False, ..., False, False, False]]])},\n",
       " array([[[ 32,  42,  52],\n",
       "         [ 50,  60,  70],\n",
       "         [ 75,  83,  96],\n",
       "         ...,\n",
       "         [ 92, 103, 107],\n",
       "         [ 93, 102, 105],\n",
       "         [ 88,  97, 100]],\n",
       " \n",
       "        [[ 23,  33,  43],\n",
       "         [ 34,  44,  54],\n",
       "         [ 58,  66,  79],\n",
       "         ...,\n",
       "         [ 88,  97, 100],\n",
       "         [ 92,  99, 102],\n",
       "         [ 92, 100, 100]],\n",
       " \n",
       "        [[ 39,  48,  58],\n",
       "         [ 39,  48,  58],\n",
       "         [ 47,  55,  68],\n",
       "         ...,\n",
       "         [ 89,  97,  97],\n",
       "         [ 80,  86,  85],\n",
       "         [ 70,  76,  75]],\n",
       " \n",
       "        ...,\n",
       " \n",
       "        [[ 48,  76, 117],\n",
       "         [ 48,  76, 117],\n",
       "         [ 49,  77, 118],\n",
       "         ...,\n",
       "         [131, 150, 177],\n",
       "         [131, 148, 175],\n",
       "         [128, 145, 171]],\n",
       " \n",
       "        [[ 44,  72, 113],\n",
       "         [ 44,  72, 113],\n",
       "         [ 45,  73, 114],\n",
       "         ...,\n",
       "         [133, 152, 179],\n",
       "         [134, 151, 178],\n",
       "         [133, 150, 176]],\n",
       " \n",
       "        [[ 40,  68, 109],\n",
       "         [ 40,  68, 109],\n",
       "         [ 41,  69, 110],\n",
       "         ...,\n",
       "         [130, 149, 176],\n",
       "         [132, 149, 176],\n",
       "         [133, 150, 176]]], dtype=uint8))"
      ]
     },
     "execution_count": 8,
     "metadata": {},
     "output_type": "execute_result"
    }
   ],
   "source": [
    "segment_image.segmentImage('img3.jpg',show_bboxes = True,output_image_name='output3.jpg')"
   ]
  },
  {
   "cell_type": "code",
   "execution_count": null,
   "metadata": {},
   "outputs": [],
   "source": []
  }
 ],
 "metadata": {
  "kernelspec": {
   "display_name": "Python 3",
   "language": "python",
   "name": "python3"
  },
  "language_info": {
   "codemirror_mode": {
    "name": "ipython",
    "version": 3
   },
   "file_extension": ".py",
   "mimetype": "text/x-python",
   "name": "python",
   "nbconvert_exporter": "python",
   "pygments_lexer": "ipython3",
   "version": "3.7.3"
  }
 },
 "nbformat": 4,
 "nbformat_minor": 4
}
